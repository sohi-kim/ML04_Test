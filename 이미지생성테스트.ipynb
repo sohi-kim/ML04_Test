{
  "nbformat": 4,
  "nbformat_minor": 0,
  "metadata": {
    "colab": {
      "provenance": [],
      "authorship_tag": "ABX9TyPTTzm94Hpc3fHxXxLDi4Rn",
      "include_colab_link": true
    },
    "kernelspec": {
      "name": "python3",
      "display_name": "Python 3"
    },
    "language_info": {
      "name": "python"
    }
  },
  "cells": [
    {
      "cell_type": "markdown",
      "metadata": {
        "id": "view-in-github",
        "colab_type": "text"
      },
      "source": [
        "<a href=\"https://colab.research.google.com/github/sohi-kim/ML04_Test/blob/main/%EC%9D%B4%EB%AF%B8%EC%A7%80%EC%83%9D%EC%84%B1%ED%85%8C%EC%8A%A4%ED%8A%B8.ipynb\" target=\"_parent\"><img src=\"https://colab.research.google.com/assets/colab-badge.svg\" alt=\"Open In Colab\"/></a>"
      ]
    },
    {
      "cell_type": "code",
      "source": [
        "!pip install dotenv openai"
      ],
      "metadata": {
        "colab": {
          "base_uri": "https://localhost:8080/"
        },
        "collapsed": true,
        "id": "rzfNZROPkZaH",
        "outputId": "a6f0a3d9-5e46-45c8-8cfa-9907c242b0cc"
      },
      "execution_count": null,
      "outputs": [
        {
          "output_type": "stream",
          "name": "stdout",
          "text": [
            "Collecting dotenv\n",
            "  Downloading dotenv-0.9.9-py2.py3-none-any.whl.metadata (279 bytes)\n",
            "Requirement already satisfied: openai in /usr/local/lib/python3.11/dist-packages (1.70.0)\n",
            "Collecting python-dotenv (from dotenv)\n",
            "  Downloading python_dotenv-1.1.0-py3-none-any.whl.metadata (24 kB)\n",
            "Requirement already satisfied: anyio<5,>=3.5.0 in /usr/local/lib/python3.11/dist-packages (from openai) (4.9.0)\n",
            "Requirement already satisfied: distro<2,>=1.7.0 in /usr/local/lib/python3.11/dist-packages (from openai) (1.9.0)\n",
            "Requirement already satisfied: httpx<1,>=0.23.0 in /usr/local/lib/python3.11/dist-packages (from openai) (0.28.1)\n",
            "Requirement already satisfied: jiter<1,>=0.4.0 in /usr/local/lib/python3.11/dist-packages (from openai) (0.9.0)\n",
            "Requirement already satisfied: pydantic<3,>=1.9.0 in /usr/local/lib/python3.11/dist-packages (from openai) (2.11.2)\n",
            "Requirement already satisfied: sniffio in /usr/local/lib/python3.11/dist-packages (from openai) (1.3.1)\n",
            "Requirement already satisfied: tqdm>4 in /usr/local/lib/python3.11/dist-packages (from openai) (4.67.1)\n",
            "Requirement already satisfied: typing-extensions<5,>=4.11 in /usr/local/lib/python3.11/dist-packages (from openai) (4.13.1)\n",
            "Requirement already satisfied: idna>=2.8 in /usr/local/lib/python3.11/dist-packages (from anyio<5,>=3.5.0->openai) (3.10)\n",
            "Requirement already satisfied: certifi in /usr/local/lib/python3.11/dist-packages (from httpx<1,>=0.23.0->openai) (2025.1.31)\n",
            "Requirement already satisfied: httpcore==1.* in /usr/local/lib/python3.11/dist-packages (from httpx<1,>=0.23.0->openai) (1.0.7)\n",
            "Requirement already satisfied: h11<0.15,>=0.13 in /usr/local/lib/python3.11/dist-packages (from httpcore==1.*->httpx<1,>=0.23.0->openai) (0.14.0)\n",
            "Requirement already satisfied: annotated-types>=0.6.0 in /usr/local/lib/python3.11/dist-packages (from pydantic<3,>=1.9.0->openai) (0.7.0)\n",
            "Requirement already satisfied: pydantic-core==2.33.1 in /usr/local/lib/python3.11/dist-packages (from pydantic<3,>=1.9.0->openai) (2.33.1)\n",
            "Requirement already satisfied: typing-inspection>=0.4.0 in /usr/local/lib/python3.11/dist-packages (from pydantic<3,>=1.9.0->openai) (0.4.0)\n",
            "Downloading dotenv-0.9.9-py2.py3-none-any.whl (1.9 kB)\n",
            "Downloading python_dotenv-1.1.0-py3-none-any.whl (20 kB)\n",
            "Installing collected packages: python-dotenv, dotenv\n",
            "Successfully installed dotenv-0.9.9 python-dotenv-1.1.0\n"
          ]
        }
      ]
    },
    {
      "cell_type": "code",
      "source": [
        "import os\n",
        "# .env 파일을 가져옵니다.\n",
        "from dotenv import load_dotenv\n",
        "import openai\n"
      ],
      "metadata": {
        "id": "gj71zNmpkL7A"
      },
      "execution_count": null,
      "outputs": []
    },
    {
      "cell_type": "code",
      "source": [
        "load_dotenv()"
      ],
      "metadata": {
        "colab": {
          "base_uri": "https://localhost:8080/"
        },
        "id": "I2vunxt1kPqS",
        "outputId": "c14a6fcc-0de2-40a1-bece-8dabe458afb5"
      },
      "execution_count": null,
      "outputs": [
        {
          "output_type": "execute_result",
          "data": {
            "text/plain": [
              "True"
            ]
          },
          "metadata": {},
          "execution_count": 5
        }
      ]
    },
    {
      "cell_type": "code",
      "source": [
        "client = openai.OpenAI(\n",
        "    api_key=os.getenv(\"API_KEY\")  # .env 에서 해당 key의 값을 가져옵니다.\n",
        ")"
      ],
      "metadata": {
        "id": "ltU9bew0kRoN"
      },
      "execution_count": null,
      "outputs": []
    },
    {
      "cell_type": "code",
      "execution_count": null,
      "metadata": {
        "colab": {
          "base_uri": "https://localhost:8080/"
        },
        "id": "3TXEUAwWjrhs",
        "outputId": "1b3b4c8e-5e64-41e3-878f-b2edbcc83609"
      },
      "outputs": [
        {
          "output_type": "stream",
          "name": "stdout",
          "text": [
            "🎨 이미지 프롬프트:\n",
            " 키보드가 작은 문처럼 보이며, 그 위에는 글자들이 흩어져 있다. 키보드는 마치 나의 말과 생각을 자유롭게 표현할 수 있는 도구로 변신한다. 클릭 소리는 마치 응원과 격려가 되어, 소망과 꿈을 이루는 길잡이가 된다. 때로는 불화가 휘몰아치고, 손가락이 상처를 입히기도 하지만, 키보드는 언제나 믿음직한 동반자로 남아있어 나를 편안하게 안아주는 모습이 그려진다. 키보드의 작은 존재가 내 삶에서 중요한 역할을 한다는 감사함으로 가득한 장면.\n",
            "🖼️ 이미지 URL: https://oaidalleapiprodscus.blob.core.windows.net/private/org-nBZyXXPHBgIzmirerHqOZZQ8/user-c0m46M2atnI8cStcYoOK885V/img-EZNRMZyPDuWwuZK2IjDnOBCT.png?st=2025-04-11T05%3A46%3A19Z&se=2025-04-11T07%3A46%3A19Z&sp=r&sv=2024-08-04&sr=b&rscd=inline&rsct=image/png&skoid=d505667d-d6c1-4a0a-bac7-5c84a87759f8&sktid=a48cca56-e6da-484e-a814-9c849652bcb3&skt=2025-04-11T00%3A21%3A36Z&ske=2025-04-12T00%3A21%3A36Z&sks=b&skv=2024-08-04&sig=%2BO6%2BC59YCcrbZnDxCORNl8uT6/tDnOdK%2BCof7G5LFas%3D\n"
          ]
        }
      ],
      "source": [
        "\n",
        "poem =\"\"\"\n",
        "키보드야, 너의 키는 마치 작은 문이야\n",
        "나의 말과 생각을 자유롭게 표현해주는 도구\n",
        "\n",
        "백지 위에서 살아숨쉬며 글자를 놓는 너는\n",
        "나의 마음의 속마음을 풀어내는 친구\n",
        "\n",
        "명료한 클릭 소리는 마치 응원과 격려가 되어\n",
        "나의 소망과 꿈을 이루는 길잡이가 돼\n",
        "\n",
        "하지만 때론 너도 예상치 못한 불화가 휘몰아치고\n",
        "무능한 손가락에 의해 상처를 입는 순간도 있는데\n",
        "\n",
        "그래도 넌 언제나 나의 곁에서 믿음직한 동반자로\n",
        "나를 따뜻하게 포옹하며 편안함을 선사해줘\n",
        "\n",
        "키보드야, 네 존재는 작지만 중요한 역할이야\n",
        "나의 삶에 함께하는 너에게 감사를 담아 함께한다.\n",
        "\"\"\"\n",
        "\n",
        "description_messages = [\n",
        "    {\"role\": \"system\", \"content\": \"You convert poetic text into visual scene descriptions suitable for AI image generation.\"},\n",
        "    {\"role\": \"user\", \"content\": f\"다음 시를 이미지로 그릴 수 있도록 시각적인 설명으로 바꿔줘:\\n\\n{poem}\"}\n",
        "]\n",
        "\n",
        "description_response = client.chat.completions.create(\n",
        "    model=\"gpt-3.5-turbo\",\n",
        "    messages=description_messages\n",
        ")\n",
        "\n",
        "visual_prompt = description_response.choices[0].message.content\n",
        "print(\"🎨 이미지 프롬프트:\\n\", visual_prompt)\n",
        "\n",
        "# Step 3: 이미지 생성\n",
        "image_response = client.images.generate(\n",
        "    model=\"dall-e-3\",\n",
        "    prompt=visual_prompt,\n",
        "    size=\"1024x1024\",\n",
        "    quality=\"standard\",\n",
        "    n=1\n",
        ")\n",
        "\n",
        "image_url = image_response.data[0].url\n",
        "print(\"🖼️ 이미지 URL:\", image_url)"
      ]
    },
    {
      "cell_type": "code",
      "source": [],
      "metadata": {
        "id": "xSs-1BNpkre5"
      },
      "execution_count": null,
      "outputs": []
    }
  ]
}